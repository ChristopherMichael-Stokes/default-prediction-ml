{
 "cells": [
  {
   "cell_type": "markdown",
   "metadata": {},
   "source": [
    "#### Coursework for INM701. Principles of Artificial Intelligence<br>\n",
    "\n",
    "\n",
    "# Machine learning in P2P lending for default prediction<br>\n",
    "\n",
    "###  Team mc<sup>2</sup> : Minoh Kwon(PG), Christopher Michael Stokes(PG)<br>\n",
    "\n",
    "\n",
    "\n",
    "\n",
    "--------------------------------------------------------------------------------------------------------------------"
   ]
  },
  {
   "cell_type": "markdown",
   "metadata": {},
   "source": [
    "### <b>Development Enviromnent</b>\n",
    "<ul>\n",
    "    <li>Operating System:<br> \n",
    "        - Windows 10 Home 64bit, RAM 8GB</li><br>\n",
    "    <li>Tools and language:<br> \n",
    "        - Jupyter Notebook (ananconda3)\n",
    "        - Python 3.7.4</li><br>\n",
    "    <li>Packages imported<br>\n",
    "        - <b>imbalanced-learn 0.5.0 (conda install -c conda-forge imbalanced-learn)</b><br>\n",
    "        - matplotlib 3.1.1<br>\n",
    "        - missingno 0.4.2<br>\n",
    "        - numpy 1.16.5<br>\n",
    "        - pandas 0.25.3<br>\n",
    "        - pickle-mixin 1.0.2 (pip install pickle-mixin, file serialisation)<br>\n",
    "        - <b>plotly 4.3.0 (conda install -c plotly plotly)</b><br>\n",
    "        - scikit-learn 0.21.3<br>\n",
    "        - <b>scikit-plot 0.3.5 (conda install -c conda-forge scikit-plot)</b><br>\n",
    "        - seaborn 0.9.0<br>\n",
    "        - tensorflow 2.0.0<br><br>\n",
    "     <li>Folders:<br> \n",
    "        - Source dataset: \"./dataset/loan.csv\", temporary .csv files<br>\n",
    "        - Finalised models: \"./models/*.sav\"\n",
    "</ul>"
   ]
  }
 ],
 "metadata": {
  "kernelspec": {
   "display_name": "Python 3",
   "language": "python",
   "name": "python3"
  },
  "language_info": {
   "codemirror_mode": {
    "name": "ipython",
    "version": 3
   },
   "file_extension": ".py",
   "mimetype": "text/x-python",
   "name": "python",
   "nbconvert_exporter": "python",
   "pygments_lexer": "ipython3",
   "version": "3.7.4"
  }
 },
 "nbformat": 4,
 "nbformat_minor": 4
}
