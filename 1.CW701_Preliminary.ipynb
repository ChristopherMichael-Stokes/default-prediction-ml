{
 "cells": [
  {
   "cell_type": "markdown",
   "metadata": {},
   "source": [
    "# Part 1. Preliminary Study\n",
    "-------------------------------------------------------------------------------------------------------------------"
   ]
  },
  {
   "cell_type": "markdown",
   "metadata": {},
   "source": [
    "## Introduction"
   ]
  },
  {
   "cell_type": "markdown",
   "metadata": {},
   "source": [
    "<ul>\n",
    "    <li>Since Zopa firstly launched the innovative Peer-to-Peer(P2P) lending business in 2005, global P2P finance market has been steadily expanding with the growth of fintech startups. According to PRNewswire, its market is valued at approximately £12 billion in 2018.</li>\n",
    "    <li>P2P lending has evolved as a disruptor in consumer finance in recent years. The UK, USA, Europe and China are the major markets for the industry.</li>\n",
    "    <li>The major companies in the market include Zopa, Funding Circle, LendingTree, Lendingclub, onDeck Capital, Prosper Marketplace, Upstart, etc. Major companies are developing and actively adopting state-of-the-art technologies.</li>\n",
    "    <li>In particular, they endeavour to keep their interest rate lower to gain competitive edge through credit risk management that should be undertaken.</li>\n",
    "    <li>The critical risk factor with regard to P2P lending is that P2P companies are not compelled to make any payments to the investor in case of bad loans. Some players offer provision funds that is the allowance for bad debts but it reaches only up to their expected rate for bad ones.</li>  \n",
    "    <li>Therefore, it is crucial to predict default risk as the P2P issues rather unsecured credit loans via Internet without conventional financial intermediaries.</li>\n",
    "    <li>In this vein, the main purpose of this experiment is building the 'optimised model for loan default prediction' using various machine learning techniques.</li>\n",
    "    <li>Furthermore, this experiment encompasses which factors significantly influence on bad loans as a consequence. Using common knowledge on financial industry, borrowers' credit grade, DTI(Debt-to-Income) ratio, income, ammount of fund could be strongly associated with loan default either negatively or positively. Emekter et al(2015) proposed borrowers' default determinants include credit grade, FICO score, debt-to-income ratio and revolving credit utilisation. The determinants can be varying in issuing companies' customer segment, product characteristics and external environmental influences, etc.</li>\n",
    "    <li>Concisely, this experiment will investigate the optimised model for loan default prediction through:<Br> \n",
    "        - Deciding which factors are most important for this experiment<Br>\n",
    "        - Training models to evaluate using different machine learning techniques<Br>\n",
    "        - Selecting the best model based on the performance of prediction</li>   \n",
    "    <li>For the chosen topic, LendingClub's dataset is explored and harnessed as its easily accessible, open historical transaction datasets on the Internet at https://www.kaggle.com/wendykan/lending-club-loan-data.\n",
    "    <li>LendingClub is the world's largest peer-to-peer lending platform.</li>\n",
    "    <li>The annual default rate across all grades at LendingClub is represented at 7.09 percent from Q1 2015 through Q1 2019 by Investopia, which is a US-based investment advisory company. (at: https://www.investopedia.com/lendingclub-review-4585233)</li>\n",
    "    <li>For resolving the business problem, the experiment adopts an incremental approach that commences preliminary review to gain understanding of LendingClub's business as well as dataset, and to perform a mini-experiment by building simple models to set direction for the main experiment, followed by the structured main experiment.</li>    \n",
    "</ul>"
   ]
  },
  {
   "cell_type": "markdown",
   "metadata": {},
   "source": [
    "## Initial Experimental Development"
   ]
  },
  {
   "cell_type": "markdown",
   "metadata": {},
   "source": [
    "### 1) Data Exploration"
   ]
  },
  {
   "cell_type": "code",
   "execution_count": 1,
   "metadata": {},
   "outputs": [],
   "source": [
    "# Import relevant packages and read loan transation data from a csv file\n",
    "import numpy as np\n",
    "import pandas as pd\n",
    "import warnings\n",
    "warnings.filterwarnings('ignore')\n",
    "\n",
    "# Draw a graph in Jupyter Notebook\n",
    "%matplotlib inline\n",
    "\n",
    "loans = pd.read_csv(\"./dataset/loan.csv\")"
   ]
  },
  {
   "cell_type": "code",
   "execution_count": 2,
   "metadata": {},
   "outputs": [
    {
     "data": {
      "text/plain": [
       "(887379, 74)"
      ]
     },
     "execution_count": 2,
     "metadata": {},
     "output_type": "execute_result"
    }
   ],
   "source": [
    "loans.shape"
   ]
  },
  {
   "cell_type": "markdown",
   "metadata": {},
   "source": [
    "[Interpretation]\n",
    "74 fields and 887,379 records. High dimensionality as well as enough quantity of dataset to learn<Br>\n",
    "Later on, only 1,000 rows will be randomly selected for the mini experiment."
   ]
  },
  {
   "cell_type": "code",
   "execution_count": 3,
   "metadata": {},
   "outputs": [
    {
     "name": "stdout",
     "output_type": "stream",
     "text": [
      "<class 'pandas.core.frame.DataFrame'>\n",
      "RangeIndex: 887379 entries, 0 to 887378\n",
      "Data columns (total 74 columns):\n",
      "id                             887379 non-null int64\n",
      "member_id                      887379 non-null int64\n",
      "loan_amnt                      887379 non-null float64\n",
      "funded_amnt                    887379 non-null float64\n",
      "funded_amnt_inv                887379 non-null float64\n",
      "term                           887379 non-null object\n",
      "int_rate                       887379 non-null float64\n",
      "installment                    887379 non-null float64\n",
      "grade                          887379 non-null object\n",
      "sub_grade                      887379 non-null object\n",
      "emp_title                      835917 non-null object\n",
      "emp_length                     842554 non-null object\n",
      "home_ownership                 887379 non-null object\n",
      "annual_inc                     887375 non-null float64\n",
      "verification_status            887379 non-null object\n",
      "issue_d                        887379 non-null object\n",
      "loan_status                    887379 non-null object\n",
      "pymnt_plan                     887379 non-null object\n",
      "url                            887379 non-null object\n",
      "desc                           126028 non-null object\n",
      "purpose                        887379 non-null object\n",
      "title                          887227 non-null object\n",
      "zip_code                       887379 non-null object\n",
      "addr_state                     887379 non-null object\n",
      "dti                            887379 non-null float64\n",
      "delinq_2yrs                    887350 non-null float64\n",
      "earliest_cr_line               887350 non-null object\n",
      "inq_last_6mths                 887350 non-null float64\n",
      "mths_since_last_delinq         433067 non-null float64\n",
      "mths_since_last_record         137053 non-null float64\n",
      "open_acc                       887350 non-null float64\n",
      "pub_rec                        887350 non-null float64\n",
      "revol_bal                      887379 non-null float64\n",
      "revol_util                     886877 non-null float64\n",
      "total_acc                      887350 non-null float64\n",
      "initial_list_status            887379 non-null object\n",
      "out_prncp                      887379 non-null float64\n",
      "out_prncp_inv                  887379 non-null float64\n",
      "total_pymnt                    887379 non-null float64\n",
      "total_pymnt_inv                887379 non-null float64\n",
      "total_rec_prncp                887379 non-null float64\n",
      "total_rec_int                  887379 non-null float64\n",
      "total_rec_late_fee             887379 non-null float64\n",
      "recoveries                     887379 non-null float64\n",
      "collection_recovery_fee        887379 non-null float64\n",
      "last_pymnt_d                   869720 non-null object\n",
      "last_pymnt_amnt                887379 non-null float64\n",
      "next_pymnt_d                   634408 non-null object\n",
      "last_credit_pull_d             887326 non-null object\n",
      "collections_12_mths_ex_med     887234 non-null float64\n",
      "mths_since_last_major_derog    221703 non-null float64\n",
      "policy_code                    887379 non-null float64\n",
      "application_type               887379 non-null object\n",
      "annual_inc_joint               511 non-null float64\n",
      "dti_joint                      509 non-null float64\n",
      "verification_status_joint      511 non-null object\n",
      "acc_now_delinq                 887350 non-null float64\n",
      "tot_coll_amt                   817103 non-null float64\n",
      "tot_cur_bal                    817103 non-null float64\n",
      "open_acc_6m                    21372 non-null float64\n",
      "open_il_6m                     21372 non-null float64\n",
      "open_il_12m                    21372 non-null float64\n",
      "open_il_24m                    21372 non-null float64\n",
      "mths_since_rcnt_il             20810 non-null float64\n",
      "total_bal_il                   21372 non-null float64\n",
      "il_util                        18617 non-null float64\n",
      "open_rv_12m                    21372 non-null float64\n",
      "open_rv_24m                    21372 non-null float64\n",
      "max_bal_bc                     21372 non-null float64\n",
      "all_util                       21372 non-null float64\n",
      "total_rev_hi_lim               817103 non-null float64\n",
      "inq_fi                         21372 non-null float64\n",
      "total_cu_tl                    21372 non-null float64\n",
      "inq_last_12m                   21372 non-null float64\n",
      "dtypes: float64(49), int64(2), object(23)\n",
      "memory usage: 501.0+ MB\n"
     ]
    }
   ],
   "source": [
    "loans.info()"
   ]
  },
  {
   "cell_type": "markdown",
   "metadata": {},
   "source": [
    "[Interpretation]\n",
    "51 fields are numerical values but 23 fields are non-numerical ones. Some columns such as annual_inc_joint, dti_joint and verification_status_joint have NaN more than half. This will be analysed in detail later."
   ]
  },
  {
   "cell_type": "code",
   "execution_count": 4,
   "metadata": {},
   "outputs": [
    {
     "data": {
      "text/html": [
       "<div>\n",
       "<style scoped>\n",
       "    .dataframe tbody tr th:only-of-type {\n",
       "        vertical-align: middle;\n",
       "    }\n",
       "\n",
       "    .dataframe tbody tr th {\n",
       "        vertical-align: top;\n",
       "    }\n",
       "\n",
       "    .dataframe thead th {\n",
       "        text-align: right;\n",
       "    }\n",
       "</style>\n",
       "<table border=\"1\" class=\"dataframe\">\n",
       "  <thead>\n",
       "    <tr style=\"text-align: right;\">\n",
       "      <th></th>\n",
       "      <th>id</th>\n",
       "      <th>member_id</th>\n",
       "      <th>loan_amnt</th>\n",
       "      <th>funded_amnt</th>\n",
       "      <th>funded_amnt_inv</th>\n",
       "      <th>int_rate</th>\n",
       "      <th>installment</th>\n",
       "      <th>annual_inc</th>\n",
       "      <th>dti</th>\n",
       "      <th>delinq_2yrs</th>\n",
       "      <th>...</th>\n",
       "      <th>total_bal_il</th>\n",
       "      <th>il_util</th>\n",
       "      <th>open_rv_12m</th>\n",
       "      <th>open_rv_24m</th>\n",
       "      <th>max_bal_bc</th>\n",
       "      <th>all_util</th>\n",
       "      <th>total_rev_hi_lim</th>\n",
       "      <th>inq_fi</th>\n",
       "      <th>total_cu_tl</th>\n",
       "      <th>inq_last_12m</th>\n",
       "    </tr>\n",
       "  </thead>\n",
       "  <tbody>\n",
       "    <tr>\n",
       "      <th>count</th>\n",
       "      <td>8.873790e+05</td>\n",
       "      <td>8.873790e+05</td>\n",
       "      <td>887379.000000</td>\n",
       "      <td>887379.000000</td>\n",
       "      <td>887379.000000</td>\n",
       "      <td>887379.000000</td>\n",
       "      <td>887379.000000</td>\n",
       "      <td>8.873750e+05</td>\n",
       "      <td>887379.000000</td>\n",
       "      <td>887350.000000</td>\n",
       "      <td>...</td>\n",
       "      <td>21372.000000</td>\n",
       "      <td>18617.000000</td>\n",
       "      <td>21372.000000</td>\n",
       "      <td>21372.000000</td>\n",
       "      <td>21372.000000</td>\n",
       "      <td>21372.000000</td>\n",
       "      <td>8.171030e+05</td>\n",
       "      <td>21372.000000</td>\n",
       "      <td>21372.000000</td>\n",
       "      <td>21372.000000</td>\n",
       "    </tr>\n",
       "    <tr>\n",
       "      <th>mean</th>\n",
       "      <td>3.246513e+07</td>\n",
       "      <td>3.500182e+07</td>\n",
       "      <td>14755.264605</td>\n",
       "      <td>14741.877625</td>\n",
       "      <td>14702.464383</td>\n",
       "      <td>13.246740</td>\n",
       "      <td>436.717127</td>\n",
       "      <td>7.502759e+04</td>\n",
       "      <td>18.157039</td>\n",
       "      <td>0.314442</td>\n",
       "      <td>...</td>\n",
       "      <td>36552.811389</td>\n",
       "      <td>71.535317</td>\n",
       "      <td>1.389060</td>\n",
       "      <td>2.975482</td>\n",
       "      <td>5887.979740</td>\n",
       "      <td>60.831939</td>\n",
       "      <td>3.206862e+04</td>\n",
       "      <td>0.943945</td>\n",
       "      <td>1.537058</td>\n",
       "      <td>1.977307</td>\n",
       "    </tr>\n",
       "    <tr>\n",
       "      <th>std</th>\n",
       "      <td>2.282734e+07</td>\n",
       "      <td>2.411335e+07</td>\n",
       "      <td>8435.455601</td>\n",
       "      <td>8429.897657</td>\n",
       "      <td>8442.106732</td>\n",
       "      <td>4.381867</td>\n",
       "      <td>244.186593</td>\n",
       "      <td>6.469830e+04</td>\n",
       "      <td>17.190626</td>\n",
       "      <td>0.862244</td>\n",
       "      <td>...</td>\n",
       "      <td>43103.833619</td>\n",
       "      <td>23.022862</td>\n",
       "      <td>1.520129</td>\n",
       "      <td>2.631886</td>\n",
       "      <td>5284.701239</td>\n",
       "      <td>20.013254</td>\n",
       "      <td>3.749826e+04</td>\n",
       "      <td>1.446872</td>\n",
       "      <td>2.723339</td>\n",
       "      <td>2.874067</td>\n",
       "    </tr>\n",
       "    <tr>\n",
       "      <th>min</th>\n",
       "      <td>5.473400e+04</td>\n",
       "      <td>7.047300e+04</td>\n",
       "      <td>500.000000</td>\n",
       "      <td>500.000000</td>\n",
       "      <td>0.000000</td>\n",
       "      <td>5.320000</td>\n",
       "      <td>15.670000</td>\n",
       "      <td>0.000000e+00</td>\n",
       "      <td>0.000000</td>\n",
       "      <td>0.000000</td>\n",
       "      <td>...</td>\n",
       "      <td>0.000000</td>\n",
       "      <td>0.000000</td>\n",
       "      <td>0.000000</td>\n",
       "      <td>0.000000</td>\n",
       "      <td>0.000000</td>\n",
       "      <td>0.000000</td>\n",
       "      <td>0.000000e+00</td>\n",
       "      <td>0.000000</td>\n",
       "      <td>0.000000</td>\n",
       "      <td>-4.000000</td>\n",
       "    </tr>\n",
       "    <tr>\n",
       "      <th>25%</th>\n",
       "      <td>9.206643e+06</td>\n",
       "      <td>1.087713e+07</td>\n",
       "      <td>8000.000000</td>\n",
       "      <td>8000.000000</td>\n",
       "      <td>8000.000000</td>\n",
       "      <td>9.990000</td>\n",
       "      <td>260.705000</td>\n",
       "      <td>4.500000e+04</td>\n",
       "      <td>11.910000</td>\n",
       "      <td>0.000000</td>\n",
       "      <td>...</td>\n",
       "      <td>10251.500000</td>\n",
       "      <td>58.600000</td>\n",
       "      <td>0.000000</td>\n",
       "      <td>1.000000</td>\n",
       "      <td>2411.000000</td>\n",
       "      <td>47.700000</td>\n",
       "      <td>1.390000e+04</td>\n",
       "      <td>0.000000</td>\n",
       "      <td>0.000000</td>\n",
       "      <td>0.000000</td>\n",
       "    </tr>\n",
       "    <tr>\n",
       "      <th>50%</th>\n",
       "      <td>3.443327e+07</td>\n",
       "      <td>3.709528e+07</td>\n",
       "      <td>13000.000000</td>\n",
       "      <td>13000.000000</td>\n",
       "      <td>13000.000000</td>\n",
       "      <td>12.990000</td>\n",
       "      <td>382.550000</td>\n",
       "      <td>6.500000e+04</td>\n",
       "      <td>17.650000</td>\n",
       "      <td>0.000000</td>\n",
       "      <td>...</td>\n",
       "      <td>24684.500000</td>\n",
       "      <td>74.900000</td>\n",
       "      <td>1.000000</td>\n",
       "      <td>2.000000</td>\n",
       "      <td>4483.000000</td>\n",
       "      <td>61.900000</td>\n",
       "      <td>2.370000e+04</td>\n",
       "      <td>0.000000</td>\n",
       "      <td>0.000000</td>\n",
       "      <td>2.000000</td>\n",
       "    </tr>\n",
       "    <tr>\n",
       "      <th>75%</th>\n",
       "      <td>5.490814e+07</td>\n",
       "      <td>5.847135e+07</td>\n",
       "      <td>20000.000000</td>\n",
       "      <td>20000.000000</td>\n",
       "      <td>20000.000000</td>\n",
       "      <td>16.200000</td>\n",
       "      <td>572.600000</td>\n",
       "      <td>9.000000e+04</td>\n",
       "      <td>23.950000</td>\n",
       "      <td>0.000000</td>\n",
       "      <td>...</td>\n",
       "      <td>47858.000000</td>\n",
       "      <td>87.600000</td>\n",
       "      <td>2.000000</td>\n",
       "      <td>4.000000</td>\n",
       "      <td>7771.500000</td>\n",
       "      <td>75.200000</td>\n",
       "      <td>3.980000e+04</td>\n",
       "      <td>1.000000</td>\n",
       "      <td>2.000000</td>\n",
       "      <td>3.000000</td>\n",
       "    </tr>\n",
       "    <tr>\n",
       "      <th>max</th>\n",
       "      <td>6.861706e+07</td>\n",
       "      <td>7.354484e+07</td>\n",
       "      <td>35000.000000</td>\n",
       "      <td>35000.000000</td>\n",
       "      <td>35000.000000</td>\n",
       "      <td>28.990000</td>\n",
       "      <td>1445.460000</td>\n",
       "      <td>9.500000e+06</td>\n",
       "      <td>9999.000000</td>\n",
       "      <td>39.000000</td>\n",
       "      <td>...</td>\n",
       "      <td>878459.000000</td>\n",
       "      <td>223.300000</td>\n",
       "      <td>22.000000</td>\n",
       "      <td>43.000000</td>\n",
       "      <td>127305.000000</td>\n",
       "      <td>151.400000</td>\n",
       "      <td>9.999999e+06</td>\n",
       "      <td>17.000000</td>\n",
       "      <td>35.000000</td>\n",
       "      <td>32.000000</td>\n",
       "    </tr>\n",
       "  </tbody>\n",
       "</table>\n",
       "<p>8 rows × 51 columns</p>\n",
       "</div>"
      ],
      "text/plain": [
       "                 id     member_id      loan_amnt    funded_amnt  \\\n",
       "count  8.873790e+05  8.873790e+05  887379.000000  887379.000000   \n",
       "mean   3.246513e+07  3.500182e+07   14755.264605   14741.877625   \n",
       "std    2.282734e+07  2.411335e+07    8435.455601    8429.897657   \n",
       "min    5.473400e+04  7.047300e+04     500.000000     500.000000   \n",
       "25%    9.206643e+06  1.087713e+07    8000.000000    8000.000000   \n",
       "50%    3.443327e+07  3.709528e+07   13000.000000   13000.000000   \n",
       "75%    5.490814e+07  5.847135e+07   20000.000000   20000.000000   \n",
       "max    6.861706e+07  7.354484e+07   35000.000000   35000.000000   \n",
       "\n",
       "       funded_amnt_inv       int_rate    installment    annual_inc  \\\n",
       "count    887379.000000  887379.000000  887379.000000  8.873750e+05   \n",
       "mean      14702.464383      13.246740     436.717127  7.502759e+04   \n",
       "std        8442.106732       4.381867     244.186593  6.469830e+04   \n",
       "min           0.000000       5.320000      15.670000  0.000000e+00   \n",
       "25%        8000.000000       9.990000     260.705000  4.500000e+04   \n",
       "50%       13000.000000      12.990000     382.550000  6.500000e+04   \n",
       "75%       20000.000000      16.200000     572.600000  9.000000e+04   \n",
       "max       35000.000000      28.990000    1445.460000  9.500000e+06   \n",
       "\n",
       "                 dti    delinq_2yrs  ...   total_bal_il       il_util  \\\n",
       "count  887379.000000  887350.000000  ...   21372.000000  18617.000000   \n",
       "mean       18.157039       0.314442  ...   36552.811389     71.535317   \n",
       "std        17.190626       0.862244  ...   43103.833619     23.022862   \n",
       "min         0.000000       0.000000  ...       0.000000      0.000000   \n",
       "25%        11.910000       0.000000  ...   10251.500000     58.600000   \n",
       "50%        17.650000       0.000000  ...   24684.500000     74.900000   \n",
       "75%        23.950000       0.000000  ...   47858.000000     87.600000   \n",
       "max      9999.000000      39.000000  ...  878459.000000    223.300000   \n",
       "\n",
       "        open_rv_12m   open_rv_24m     max_bal_bc      all_util  \\\n",
       "count  21372.000000  21372.000000   21372.000000  21372.000000   \n",
       "mean       1.389060      2.975482    5887.979740     60.831939   \n",
       "std        1.520129      2.631886    5284.701239     20.013254   \n",
       "min        0.000000      0.000000       0.000000      0.000000   \n",
       "25%        0.000000      1.000000    2411.000000     47.700000   \n",
       "50%        1.000000      2.000000    4483.000000     61.900000   \n",
       "75%        2.000000      4.000000    7771.500000     75.200000   \n",
       "max       22.000000     43.000000  127305.000000    151.400000   \n",
       "\n",
       "       total_rev_hi_lim        inq_fi   total_cu_tl  inq_last_12m  \n",
       "count      8.171030e+05  21372.000000  21372.000000  21372.000000  \n",
       "mean       3.206862e+04      0.943945      1.537058      1.977307  \n",
       "std        3.749826e+04      1.446872      2.723339      2.874067  \n",
       "min        0.000000e+00      0.000000      0.000000     -4.000000  \n",
       "25%        1.390000e+04      0.000000      0.000000      0.000000  \n",
       "50%        2.370000e+04      0.000000      0.000000      2.000000  \n",
       "75%        3.980000e+04      1.000000      2.000000      3.000000  \n",
       "max        9.999999e+06     17.000000     35.000000     32.000000  \n",
       "\n",
       "[8 rows x 51 columns]"
      ]
     },
     "execution_count": 4,
     "metadata": {},
     "output_type": "execute_result"
    }
   ],
   "source": [
    "loans.describe()"
   ]
  },
  {
   "cell_type": "code",
   "execution_count": 5,
   "metadata": {},
   "outputs": [
    {
     "data": {
      "text/html": [
       "<div>\n",
       "<style scoped>\n",
       "    .dataframe tbody tr th:only-of-type {\n",
       "        vertical-align: middle;\n",
       "    }\n",
       "\n",
       "    .dataframe tbody tr th {\n",
       "        vertical-align: top;\n",
       "    }\n",
       "\n",
       "    .dataframe thead th {\n",
       "        text-align: right;\n",
       "    }\n",
       "</style>\n",
       "<table border=\"1\" class=\"dataframe\">\n",
       "  <thead>\n",
       "    <tr style=\"text-align: right;\">\n",
       "      <th></th>\n",
       "      <th>id</th>\n",
       "      <th>member_id</th>\n",
       "      <th>loan_amnt</th>\n",
       "      <th>funded_amnt</th>\n",
       "      <th>funded_amnt_inv</th>\n",
       "      <th>term</th>\n",
       "      <th>int_rate</th>\n",
       "      <th>installment</th>\n",
       "      <th>grade</th>\n",
       "      <th>sub_grade</th>\n",
       "      <th>...</th>\n",
       "      <th>total_bal_il</th>\n",
       "      <th>il_util</th>\n",
       "      <th>open_rv_12m</th>\n",
       "      <th>open_rv_24m</th>\n",
       "      <th>max_bal_bc</th>\n",
       "      <th>all_util</th>\n",
       "      <th>total_rev_hi_lim</th>\n",
       "      <th>inq_fi</th>\n",
       "      <th>total_cu_tl</th>\n",
       "      <th>inq_last_12m</th>\n",
       "    </tr>\n",
       "  </thead>\n",
       "  <tbody>\n",
       "    <tr>\n",
       "      <th>0</th>\n",
       "      <td>1077501</td>\n",
       "      <td>1296599</td>\n",
       "      <td>5000.0</td>\n",
       "      <td>5000.0</td>\n",
       "      <td>4975.0</td>\n",
       "      <td>36 months</td>\n",
       "      <td>10.65</td>\n",
       "      <td>162.87</td>\n",
       "      <td>B</td>\n",
       "      <td>B2</td>\n",
       "      <td>...</td>\n",
       "      <td>NaN</td>\n",
       "      <td>NaN</td>\n",
       "      <td>NaN</td>\n",
       "      <td>NaN</td>\n",
       "      <td>NaN</td>\n",
       "      <td>NaN</td>\n",
       "      <td>NaN</td>\n",
       "      <td>NaN</td>\n",
       "      <td>NaN</td>\n",
       "      <td>NaN</td>\n",
       "    </tr>\n",
       "    <tr>\n",
       "      <th>1</th>\n",
       "      <td>1077430</td>\n",
       "      <td>1314167</td>\n",
       "      <td>2500.0</td>\n",
       "      <td>2500.0</td>\n",
       "      <td>2500.0</td>\n",
       "      <td>60 months</td>\n",
       "      <td>15.27</td>\n",
       "      <td>59.83</td>\n",
       "      <td>C</td>\n",
       "      <td>C4</td>\n",
       "      <td>...</td>\n",
       "      <td>NaN</td>\n",
       "      <td>NaN</td>\n",
       "      <td>NaN</td>\n",
       "      <td>NaN</td>\n",
       "      <td>NaN</td>\n",
       "      <td>NaN</td>\n",
       "      <td>NaN</td>\n",
       "      <td>NaN</td>\n",
       "      <td>NaN</td>\n",
       "      <td>NaN</td>\n",
       "    </tr>\n",
       "    <tr>\n",
       "      <th>2</th>\n",
       "      <td>1077175</td>\n",
       "      <td>1313524</td>\n",
       "      <td>2400.0</td>\n",
       "      <td>2400.0</td>\n",
       "      <td>2400.0</td>\n",
       "      <td>36 months</td>\n",
       "      <td>15.96</td>\n",
       "      <td>84.33</td>\n",
       "      <td>C</td>\n",
       "      <td>C5</td>\n",
       "      <td>...</td>\n",
       "      <td>NaN</td>\n",
       "      <td>NaN</td>\n",
       "      <td>NaN</td>\n",
       "      <td>NaN</td>\n",
       "      <td>NaN</td>\n",
       "      <td>NaN</td>\n",
       "      <td>NaN</td>\n",
       "      <td>NaN</td>\n",
       "      <td>NaN</td>\n",
       "      <td>NaN</td>\n",
       "    </tr>\n",
       "  </tbody>\n",
       "</table>\n",
       "<p>3 rows × 74 columns</p>\n",
       "</div>"
      ],
      "text/plain": [
       "        id  member_id  loan_amnt  funded_amnt  funded_amnt_inv        term  \\\n",
       "0  1077501    1296599     5000.0       5000.0           4975.0   36 months   \n",
       "1  1077430    1314167     2500.0       2500.0           2500.0   60 months   \n",
       "2  1077175    1313524     2400.0       2400.0           2400.0   36 months   \n",
       "\n",
       "   int_rate  installment grade sub_grade  ... total_bal_il il_util  \\\n",
       "0     10.65       162.87     B        B2  ...          NaN     NaN   \n",
       "1     15.27        59.83     C        C4  ...          NaN     NaN   \n",
       "2     15.96        84.33     C        C5  ...          NaN     NaN   \n",
       "\n",
       "  open_rv_12m  open_rv_24m max_bal_bc all_util total_rev_hi_lim inq_fi  \\\n",
       "0         NaN          NaN        NaN      NaN              NaN    NaN   \n",
       "1         NaN          NaN        NaN      NaN              NaN    NaN   \n",
       "2         NaN          NaN        NaN      NaN              NaN    NaN   \n",
       "\n",
       "  total_cu_tl inq_last_12m  \n",
       "0         NaN          NaN  \n",
       "1         NaN          NaN  \n",
       "2         NaN          NaN  \n",
       "\n",
       "[3 rows x 74 columns]"
      ]
     },
     "execution_count": 5,
     "metadata": {},
     "output_type": "execute_result"
    }
   ],
   "source": [
    "loans.head(3)"
   ]
  },
  {
   "cell_type": "code",
   "execution_count": 6,
   "metadata": {},
   "outputs": [
    {
     "data": {
      "text/plain": [
       "(887379, 74)"
      ]
     },
     "execution_count": 6,
     "metadata": {},
     "output_type": "execute_result"
    }
   ],
   "source": [
    "loans.shape"
   ]
  },
  {
   "cell_type": "markdown",
   "metadata": {},
   "source": [
    "### 2) Preprocessing Samples"
   ]
  },
  {
   "cell_type": "code",
   "execution_count": 7,
   "metadata": {},
   "outputs": [
    {
     "data": {
      "text/html": [
       "<div>\n",
       "<style scoped>\n",
       "    .dataframe tbody tr th:only-of-type {\n",
       "        vertical-align: middle;\n",
       "    }\n",
       "\n",
       "    .dataframe tbody tr th {\n",
       "        vertical-align: top;\n",
       "    }\n",
       "\n",
       "    .dataframe thead th {\n",
       "        text-align: right;\n",
       "    }\n",
       "</style>\n",
       "<table border=\"1\" class=\"dataframe\">\n",
       "  <thead>\n",
       "    <tr style=\"text-align: right;\">\n",
       "      <th></th>\n",
       "      <th>loan_status</th>\n",
       "      <th>loan_amnt</th>\n",
       "      <th>int_rate</th>\n",
       "      <th>grade</th>\n",
       "      <th>annual_inc</th>\n",
       "      <th>dti</th>\n",
       "      <th>revol_util</th>\n",
       "    </tr>\n",
       "  </thead>\n",
       "  <tbody>\n",
       "    <tr>\n",
       "      <th>0</th>\n",
       "      <td>Fully Paid</td>\n",
       "      <td>5000.0</td>\n",
       "      <td>10.65</td>\n",
       "      <td>B</td>\n",
       "      <td>24000.0</td>\n",
       "      <td>27.65</td>\n",
       "      <td>83.7</td>\n",
       "    </tr>\n",
       "    <tr>\n",
       "      <th>1</th>\n",
       "      <td>Charged Off</td>\n",
       "      <td>2500.0</td>\n",
       "      <td>15.27</td>\n",
       "      <td>C</td>\n",
       "      <td>30000.0</td>\n",
       "      <td>1.00</td>\n",
       "      <td>9.4</td>\n",
       "    </tr>\n",
       "    <tr>\n",
       "      <th>2</th>\n",
       "      <td>Fully Paid</td>\n",
       "      <td>2400.0</td>\n",
       "      <td>15.96</td>\n",
       "      <td>C</td>\n",
       "      <td>12252.0</td>\n",
       "      <td>8.72</td>\n",
       "      <td>98.5</td>\n",
       "    </tr>\n",
       "    <tr>\n",
       "      <th>3</th>\n",
       "      <td>Fully Paid</td>\n",
       "      <td>10000.0</td>\n",
       "      <td>13.49</td>\n",
       "      <td>C</td>\n",
       "      <td>49200.0</td>\n",
       "      <td>20.00</td>\n",
       "      <td>21.0</td>\n",
       "    </tr>\n",
       "    <tr>\n",
       "      <th>4</th>\n",
       "      <td>Current</td>\n",
       "      <td>3000.0</td>\n",
       "      <td>12.69</td>\n",
       "      <td>B</td>\n",
       "      <td>80000.0</td>\n",
       "      <td>17.94</td>\n",
       "      <td>53.9</td>\n",
       "    </tr>\n",
       "    <tr>\n",
       "      <th>...</th>\n",
       "      <td>...</td>\n",
       "      <td>...</td>\n",
       "      <td>...</td>\n",
       "      <td>...</td>\n",
       "      <td>...</td>\n",
       "      <td>...</td>\n",
       "      <td>...</td>\n",
       "    </tr>\n",
       "    <tr>\n",
       "      <th>2995</th>\n",
       "      <td>Fully Paid</td>\n",
       "      <td>30000.0</td>\n",
       "      <td>6.62</td>\n",
       "      <td>A</td>\n",
       "      <td>89028.0</td>\n",
       "      <td>18.65</td>\n",
       "      <td>19.4</td>\n",
       "    </tr>\n",
       "    <tr>\n",
       "      <th>2996</th>\n",
       "      <td>Fully Paid</td>\n",
       "      <td>5000.0</td>\n",
       "      <td>12.42</td>\n",
       "      <td>B</td>\n",
       "      <td>22000.0</td>\n",
       "      <td>7.58</td>\n",
       "      <td>91.4</td>\n",
       "    </tr>\n",
       "    <tr>\n",
       "      <th>2997</th>\n",
       "      <td>Fully Paid</td>\n",
       "      <td>7500.0</td>\n",
       "      <td>16.77</td>\n",
       "      <td>D</td>\n",
       "      <td>120000.0</td>\n",
       "      <td>12.84</td>\n",
       "      <td>98.0</td>\n",
       "    </tr>\n",
       "    <tr>\n",
       "      <th>2998</th>\n",
       "      <td>Fully Paid</td>\n",
       "      <td>35000.0</td>\n",
       "      <td>12.42</td>\n",
       "      <td>B</td>\n",
       "      <td>64620.0</td>\n",
       "      <td>10.05</td>\n",
       "      <td>53.2</td>\n",
       "    </tr>\n",
       "    <tr>\n",
       "      <th>2999</th>\n",
       "      <td>Fully Paid</td>\n",
       "      <td>16800.0</td>\n",
       "      <td>6.03</td>\n",
       "      <td>A</td>\n",
       "      <td>75000.0</td>\n",
       "      <td>12.50</td>\n",
       "      <td>20.2</td>\n",
       "    </tr>\n",
       "  </tbody>\n",
       "</table>\n",
       "<p>3000 rows × 7 columns</p>\n",
       "</div>"
      ],
      "text/plain": [
       "      loan_status  loan_amnt  int_rate grade  annual_inc    dti  revol_util\n",
       "0      Fully Paid     5000.0     10.65     B     24000.0  27.65        83.7\n",
       "1     Charged Off     2500.0     15.27     C     30000.0   1.00         9.4\n",
       "2      Fully Paid     2400.0     15.96     C     12252.0   8.72        98.5\n",
       "3      Fully Paid    10000.0     13.49     C     49200.0  20.00        21.0\n",
       "4         Current     3000.0     12.69     B     80000.0  17.94        53.9\n",
       "...           ...        ...       ...   ...         ...    ...         ...\n",
       "2995   Fully Paid    30000.0      6.62     A     89028.0  18.65        19.4\n",
       "2996   Fully Paid     5000.0     12.42     B     22000.0   7.58        91.4\n",
       "2997   Fully Paid     7500.0     16.77     D    120000.0  12.84        98.0\n",
       "2998   Fully Paid    35000.0     12.42     B     64620.0  10.05        53.2\n",
       "2999   Fully Paid    16800.0      6.03     A     75000.0  12.50        20.2\n",
       "\n",
       "[3000 rows x 7 columns]"
      ]
     },
     "execution_count": 7,
     "metadata": {},
     "output_type": "execute_result"
    }
   ],
   "source": [
    "# Select a target variable and hypothetical features that are assumed to be important to predict default\n",
    "# 6 features have been chosen through domain knowledge and article review of \n",
    "# \"Determinants of Borrowers’ Default in P2P Lending under Consideration of the Loan Risk Class\" \n",
    "#  (Michal Polena and Tobias Regner, 2018) \n",
    "loans = loans[ : 3000] # 3,000 rows of sample data (without missing data)\n",
    "loans = loans[['loan_status', 'loan_amnt', 'int_rate', 'grade', 'annual_inc', 'dti', 'revol_util']]\n",
    "loans"
   ]
  },
  {
   "cell_type": "markdown",
   "metadata": {},
   "source": [
    "[Interpretation]\n",
    "Target variable <b>'loan_status'</b> and feature <b>'grade'</b> are non-numerical, categoriacl data and thus both need to be encoded</u><Br>\n",
    "The following below demonstrates the process of enconding for 'loan_status' and 'grade', step by step."
   ]
  },
  {
   "cell_type": "code",
   "execution_count": 8,
   "metadata": {},
   "outputs": [
    {
     "data": {
      "text/plain": [
       "['Fully Paid',\n",
       " 'Charged Off',\n",
       " 'Current',\n",
       " 'Default',\n",
       " 'Late (31-120 days)',\n",
       " 'In Grace Period',\n",
       " 'Late (16-30 days)']"
      ]
     },
     "execution_count": 8,
     "metadata": {},
     "output_type": "execute_result"
    }
   ],
   "source": [
    "# Encode loan_status\n",
    "# Select distinct values of loan_status\n",
    "list(loans['loan_status'].unique())"
   ]
  },
  {
   "cell_type": "markdown",
   "metadata": {},
   "source": [
    "[Interpretation]\n",
    "There are ten labels of loan status as follows:<Br>\n",
    "    <ul>\n",
    "        <li>'Fully Paid': Loan has been fully repaid, either at the expiration of the 3- or 5-year year term or as a result of a prepayment.</li>\n",
    "         <li>'Charged Off\": Loan for which there is no longer a reasonable expectation of further payments. Upon Charge Off, the remaining principal balance of the Note is deducted from the account balance</li>\n",
    "        <li>'Current': Loan is up to date on all outstanding payments. </li>\n",
    "        <li>'Default': Loans for which borrowers have failed to make payments for an extended period of time.</li>\n",
    "        <li>'Late (31-120 days)': Loan has not been current for 31 to 120 days. </li>\n",
    "        <li>'In Grace Period': Loan is past due but within the 15-day grace period. </li>\n",
    "        <li>'Late (16-30 days)': Loan has not been current for 16 to 30 days.</li>\n",
    "        <li>'Does not meet the credit policy. Status:Fully Paid': Not clearly stated.</li>\n",
    "        <li>'Does not meet the credit policy. Status:Charged Off': Not clearly stated.</li>\n",
    "        <li>'Issued': New loan that has passed all LendingClub reviews, received full funding, and has been issued.</li>\n",
    "    </ul>\n",
    "    (Source: https://help.lendingclub.com/hc/en-us/articles/215488038-What-do-the-different-Note-statuses-mean-)"
   ]
  },
  {
   "cell_type": "code",
   "execution_count": 9,
   "metadata": {},
   "outputs": [
    {
     "name": "stdout",
     "output_type": "stream",
     "text": [
      "0       0\n",
      "1       1\n",
      "2       0\n",
      "3       0\n",
      "4       0\n",
      "       ..\n",
      "2995    0\n",
      "2996    0\n",
      "2997    0\n",
      "2998    0\n",
      "2999    0\n",
      "Name: default_loan, Length: 3000, dtype: int32\n"
     ]
    }
   ],
   "source": [
    "# Create a default loan label feature\n",
    "# Among ten labels of loan status, only two indicators, 'default' and 'charged Off' , are regarded as default.\n",
    "# Actually, 'charged Off' is different from 'default' legally.\n",
    "# However, for the investor and P2P companies there is no different consequences ot the two.\n",
    "# Target variable 'default_loan' {'Default': 1, 'Non-default': 0}\n",
    "loans['default_loan'] = np.where((loans.loan_status == 'Charged Off') | \n",
    "                                 (loans.loan_status == 'Default'), 1, 0)\n",
    "print(loans['default_loan'])\n",
    "# Drop an old column encoded\n",
    "loans.drop(['loan_status'], axis = 1, inplace = True)"
   ]
  },
  {
   "cell_type": "code",
   "execution_count": 10,
   "metadata": {},
   "outputs": [
    {
     "data": {
      "text/plain": [
       "['A', 'B', 'C', 'D', 'E', 'F', 'G']"
      ]
     },
     "execution_count": 10,
     "metadata": {},
     "output_type": "execute_result"
    }
   ],
   "source": [
    "# Hot encode grade variable (categorical feature)\n",
    "# Select distinct values of grade\n",
    "sorted(list(loans['grade'].unique()))"
   ]
  },
  {
   "cell_type": "markdown",
   "metadata": {},
   "source": [
    "[Interpretation]\n",
    "There are seven categories of grade based on risk from A to G.<Br>\n",
    "The higher the grade, the lower the risk and the lower the borrower’s interest rate.<Br> \n",
    "An 'A' loan has an interest rate as low as 6.16 percent, while a 'G' loan has an interest rate as high as 35.89 percent."
   ]
  },
  {
   "cell_type": "code",
   "execution_count": 11,
   "metadata": {},
   "outputs": [
    {
     "name": "stdout",
     "output_type": "stream",
     "text": [
      "      A  B  C  D  E  F  G\n",
      "0     0  1  0  0  0  0  0\n",
      "1     0  0  1  0  0  0  0\n",
      "2     0  0  1  0  0  0  0\n",
      "3     0  0  1  0  0  0  0\n",
      "4     0  1  0  0  0  0  0\n",
      "...  .. .. .. .. .. .. ..\n",
      "2995  1  0  0  0  0  0  0\n",
      "2996  0  1  0  0  0  0  0\n",
      "2997  0  0  0  1  0  0  0\n",
      "2998  0  1  0  0  0  0  0\n",
      "2999  1  0  0  0  0  0  0\n",
      "\n",
      "[3000 rows x 7 columns]\n"
     ]
    },
    {
     "data": {
      "text/plain": [
       "(3000, 13)"
      ]
     },
     "execution_count": 11,
     "metadata": {},
     "output_type": "execute_result"
    }
   ],
   "source": [
    "# Hot encode grade variable (categorical feature)\n",
    "grade_hot = pd.get_dummies(loans['grade'])\n",
    "print(grade_hot)\n",
    "loans_coded = pd.concat([loans, grade_hot], axis = 1).drop('grade', axis = 1)\n",
    "loans_coded.shape"
   ]
  },
  {
   "cell_type": "markdown",
   "metadata": {},
   "source": [
    "[Interpretation]\n",
    "Finally, mini dataset has been prepared to train models with thirteen features.<Br>\n",
    "Seven columns newly added from A to G along with deleting tow encoded columns, a grade and a loan_status."
   ]
  },
  {
   "cell_type": "code",
   "execution_count": 12,
   "metadata": {},
   "outputs": [],
   "source": [
    "# Splitting the dataset into test and train set\n",
    "from sklearn.model_selection import train_test_split\n",
    "\n",
    "y = loans_coded['default_loan']\n",
    "X = loans_coded.drop('default_loan', axis = 1)\n",
    "X_train, X_test, y_train, y_test = train_test_split(X, y, test_size = 0.3, random_state = 40)"
   ]
  },
  {
   "cell_type": "code",
   "execution_count": 13,
   "metadata": {},
   "outputs": [
    {
     "data": {
      "text/html": [
       "<div>\n",
       "<style scoped>\n",
       "    .dataframe tbody tr th:only-of-type {\n",
       "        vertical-align: middle;\n",
       "    }\n",
       "\n",
       "    .dataframe tbody tr th {\n",
       "        vertical-align: top;\n",
       "    }\n",
       "\n",
       "    .dataframe thead th {\n",
       "        text-align: right;\n",
       "    }\n",
       "</style>\n",
       "<table border=\"1\" class=\"dataframe\">\n",
       "  <thead>\n",
       "    <tr style=\"text-align: right;\">\n",
       "      <th></th>\n",
       "      <th>loan_amnt</th>\n",
       "      <th>int_rate</th>\n",
       "      <th>annual_inc</th>\n",
       "      <th>dti</th>\n",
       "      <th>revol_util</th>\n",
       "      <th>A</th>\n",
       "      <th>B</th>\n",
       "      <th>C</th>\n",
       "      <th>D</th>\n",
       "      <th>E</th>\n",
       "      <th>F</th>\n",
       "      <th>G</th>\n",
       "    </tr>\n",
       "  </thead>\n",
       "  <tbody>\n",
       "    <tr>\n",
       "      <th>499</th>\n",
       "      <td>18500.0</td>\n",
       "      <td>10.65</td>\n",
       "      <td>40000.0</td>\n",
       "      <td>26.34</td>\n",
       "      <td>0.1</td>\n",
       "      <td>0</td>\n",
       "      <td>1</td>\n",
       "      <td>0</td>\n",
       "      <td>0</td>\n",
       "      <td>0</td>\n",
       "      <td>0</td>\n",
       "      <td>0</td>\n",
       "    </tr>\n",
       "    <tr>\n",
       "      <th>2457</th>\n",
       "      <td>3125.0</td>\n",
       "      <td>21.67</td>\n",
       "      <td>9960.0</td>\n",
       "      <td>13.01</td>\n",
       "      <td>97.0</td>\n",
       "      <td>0</td>\n",
       "      <td>0</td>\n",
       "      <td>0</td>\n",
       "      <td>0</td>\n",
       "      <td>0</td>\n",
       "      <td>1</td>\n",
       "      <td>0</td>\n",
       "    </tr>\n",
       "    <tr>\n",
       "      <th>2729</th>\n",
       "      <td>20000.0</td>\n",
       "      <td>12.69</td>\n",
       "      <td>64049.0</td>\n",
       "      <td>19.30</td>\n",
       "      <td>69.4</td>\n",
       "      <td>0</td>\n",
       "      <td>1</td>\n",
       "      <td>0</td>\n",
       "      <td>0</td>\n",
       "      <td>0</td>\n",
       "      <td>0</td>\n",
       "      <td>0</td>\n",
       "    </tr>\n",
       "  </tbody>\n",
       "</table>\n",
       "</div>"
      ],
      "text/plain": [
       "      loan_amnt  int_rate  annual_inc    dti  revol_util  A  B  C  D  E  F  G\n",
       "499     18500.0     10.65     40000.0  26.34         0.1  0  1  0  0  0  0  0\n",
       "2457     3125.0     21.67      9960.0  13.01        97.0  0  0  0  0  0  1  0\n",
       "2729    20000.0     12.69     64049.0  19.30        69.4  0  1  0  0  0  0  0"
      ]
     },
     "execution_count": 13,
     "metadata": {},
     "output_type": "execute_result"
    }
   ],
   "source": [
    "X_train.head(3)"
   ]
  },
  {
   "cell_type": "code",
   "execution_count": 14,
   "metadata": {},
   "outputs": [],
   "source": [
    "# Feature scaling through standardisation\n",
    "from sklearn.preprocessing import StandardScaler\n",
    "\n",
    "sc = StandardScaler() # mean : 0, standard deviation : 1\n",
    "sc.fit(X_train) # fit only a train dataset\n",
    "X_train_std = sc.transform(X_train)\n",
    "X_test_std = sc.transform(X_test) # Do not fit a test dataset\n",
    "\n",
    "# Transform ndarray into dataframe to check the result scaled.\n",
    "X_train_std_ = pd.DataFrame(data = X_train_std, columns = X_train.columns)\n",
    "X_train_std_.head()\n",
    "\n",
    "X_train = X_train_std\n",
    "X_test = X_test_std"
   ]
  },
  {
   "cell_type": "code",
   "execution_count": 15,
   "metadata": {},
   "outputs": [
    {
     "name": "stdout",
     "output_type": "stream",
     "text": [
      "loan_amnt     1.237106e-16\n",
      "int_rate      8.437695e-17\n",
      "annual_inc    3.452182e-17\n",
      "dti          -8.289665e-17\n",
      "revol_util   -3.489272e-16\n",
      "A            -9.785823e-17\n",
      "B            -1.779529e-16\n",
      "C             1.583918e-16\n",
      "D             9.537344e-17\n",
      "E            -2.687268e-16\n",
      "F            -1.231555e-16\n",
      "G             3.189512e-16\n",
      "dtype: float64\n",
      "--------------------------------------------------\n",
      "loan_amnt     1.000476\n",
      "int_rate      1.000476\n",
      "annual_inc    1.000476\n",
      "dti           1.000476\n",
      "revol_util    1.000476\n",
      "A             1.000476\n",
      "B             1.000476\n",
      "C             1.000476\n",
      "D             1.000476\n",
      "E             1.000476\n",
      "F             1.000476\n",
      "G             1.000476\n",
      "dtype: float64\n"
     ]
    }
   ],
   "source": [
    "# Check the mean and variance values scaled.\n",
    "print(X_train_std_.mean())\n",
    "print('-'*50)\n",
    "print(X_train_std_.var())"
   ]
  },
  {
   "cell_type": "markdown",
   "metadata": {},
   "source": [
    "[Interpretation]\n",
    "Input values are well standardised using StandardScaler class.<br>\n",
    "Mean values of each feature is near zero and its variance values converges one. (mean = 0, variance = 1)"
   ]
  },
  {
   "cell_type": "markdown",
   "metadata": {},
   "source": [
    "### 3) Test Model Building and Evaluation"
   ]
  },
  {
   "cell_type": "code",
   "execution_count": 16,
   "metadata": {},
   "outputs": [],
   "source": [
    "# 1. \"Perceptron\" as an example of Parametric Machine Learning Algorithms\n",
    "from sklearn.linear_model import Perceptron\n",
    "from sklearn import linear_model\n",
    "# Probability calibration with isotonic regression or sigmoid\n",
    "# In order to calculate probabilities to draw a ROC courve\n",
    "from sklearn.calibration import CalibratedClassifierCV\n",
    "\n",
    "# Build a Peceptron classifier\n",
    "# Probability calibration with isotonic regression or sigmoid\n",
    "# In order to calculate probabilities to draw a ROC courve\n",
    "pceptron = linear_model.Perceptron()\n",
    "pceptron.fit(X_train, y_train)\n",
    "pc_prediction = pceptron.predict(X_test)\n",
    "pc_isotonic = CalibratedClassifierCV(pceptron, cv = 10, method = 'isotonic')\n",
    "pc_isotonic.fit(X_train, y_train)\n",
    "# Calculate probabilities to draw a ROC curve (Receiver Operating Characteristic Curve)\n",
    "pc_probas = pc_isotonic.predict_proba(X_test)"
   ]
  },
  {
   "cell_type": "code",
   "execution_count": 17,
   "metadata": {},
   "outputs": [],
   "source": [
    "# 2. \"Decision Tree\" as an example of Nonparametric Machine Learning Algorithms\n",
    "\n",
    "from sklearn.tree import DecisionTreeClassifier\n",
    "\n",
    "dtree = DecisionTreeClassifier()\n",
    "dtree.fit(X_train, y_train)\n",
    "dt_prediction = dtree.predict(X_test)\n",
    "# Calculate probabilities to draw a ROC curve (Receiver Operating Characteristic Curve)\n",
    "dt_probas = dtree.predict_proba(X_test)"
   ]
  },
  {
   "cell_type": "code",
   "execution_count": 18,
   "metadata": {},
   "outputs": [
    {
     "name": "stdout",
     "output_type": "stream",
     "text": [
      "----------------- Perception Performance -------------------\n",
      "[[653  94]\n",
      " [127  26]]\n"
     ]
    },
    {
     "data": {
      "image/png": "[encoded data removed]",
      "text/plain": [
       "<Figure size 432x288 with 2 Axes>"
      ]
     },
     "metadata": {
      "needs_background": "light"
     },
     "output_type": "display_data"
    },
    {
     "name": "stdout",
     "output_type": "stream",
     "text": [
      "              precision    recall  f1-score   support\n",
      "\n",
      "           0       0.84      0.87      0.86       747\n",
      "           1       0.22      0.17      0.19       153\n",
      "\n",
      "    accuracy                           0.75       900\n",
      "   macro avg       0.53      0.52      0.52       900\n",
      "weighted avg       0.73      0.75      0.74       900\n",
      "\n"
     ]
    },
    {
     "data": {
      "image/png": "[encoded data removed]",
      "text/plain": [
       "<Figure size 432x288 with 1 Axes>"
      ]
     },
     "metadata": {
      "needs_background": "light"
     },
     "output_type": "display_data"
    },
    {
     "name": "stdout",
     "output_type": "stream",
     "text": [
      "\n",
      "\n",
      "----------------- Decision Tree Performance -----------------\n",
      "[[612 135]\n",
      " [117  36]]\n"
     ]
    },
    {
     "data": {
      "image/png": "[encoded data removed]",
      "text/plain": [
       "<Figure size 432x288 with 2 Axes>"
      ]
     },
     "metadata": {
      "needs_background": "light"
     },
     "output_type": "display_data"
    },
    {
     "name": "stdout",
     "output_type": "stream",
     "text": [
      "              precision    recall  f1-score   support\n",
      "\n",
      "           0       0.84      0.82      0.83       747\n",
      "           1       0.21      0.24      0.22       153\n",
      "\n",
      "    accuracy                           0.72       900\n",
      "   macro avg       0.53      0.53      0.53       900\n",
      "weighted avg       0.73      0.72      0.73       900\n",
      "\n"
     ]
    },
    {
     "data": {
      "image/png": "[encoded data removed]",
      "text/plain": [
       "<Figure size 432x288 with 1 Axes>"
      ]
     },
     "metadata": {
      "needs_background": "light"
     },
     "output_type": "display_data"
    }
   ],
   "source": [
    "# Check performance of the model\n",
    "from sklearn.metrics import confusion_matrix, classification_report\n",
    "import matplotlib.pyplot as plt\n",
    "\n",
    "# Install scikit-plot package: https://anaconda.org/conda-forge/scikit-plot\n",
    "# win-32/64 v0.3.5: conda install -c conda-forge scikit-plot\n",
    "import scikitplot as skplt \n",
    "\n",
    "print(\"----------------- Perception Performance -------------------\")\n",
    "print(confusion_matrix(y_test, pc_prediction))\n",
    "skplt.metrics.plot_confusion_matrix(y_test, pc_prediction)\n",
    "plt.show()\n",
    "print(classification_report(y_test, pc_prediction))\n",
    "# Draw the ROC curve of perceptron classifier\n",
    "skplt.metrics.plot_roc(y_test, pc_probas, cmap = 'plasma', plot_micro = False, plot_macro = False)\n",
    "plt.show()\n",
    "\n",
    "print(\"\\n\\n----------------- Decision Tree Performance -----------------\")\n",
    "print(confusion_matrix(y_test, dt_prediction))\n",
    "skplt.metrics.plot_confusion_matrix(y_test, dt_prediction)\n",
    "plt.show()\n",
    "print(classification_report(y_test, dt_prediction))\n",
    "# Draw the ROC curve of decision tree classifier\n",
    "skplt.metrics.plot_roc(y_test, dt_probas, cmap = 'plasma', plot_micro = False, plot_macro = False)\n",
    "plt.show()"
   ]
  },
  {
   "cell_type": "markdown",
   "metadata": {},
   "source": [
    "[Interpretation]\n",
    "<ul>\n",
    "    <li>Target variable 'default_loan' = {'Default': 1, 'Normal(Non-default)': 0}</li>\n",
    "    <li>Perceptron: Accuracy is 63 percent but the sensitivity of default(1) shows just 44 percent</li>\n",
    "    <li>In addition, the ROC curve illustrates bad learing with the AUC of 0.59.</li>\n",
    "    <li>Decision Tree: Accuracy is 74 percent but the sensitivity of default(1) shows just 24 percent</li>\n",
    "    <li>The its ROC curve also demonstrates bad learing with the AUC of 0.54.</li>  \n",
    "</ul>"
   ]
  },
  {
   "cell_type": "markdown",
   "metadata": {},
   "source": [
    "### 4) Implications"
   ]
  },
  {
   "cell_type": "code",
   "execution_count": 19,
   "metadata": {},
   "outputs": [
    {
     "name": "stdout",
     "output_type": "stream",
     "text": [
      "0    2503\n",
      "1     497\n",
      "Name: default_loan, dtype: int64\n",
      "--------------------------------------------------\n",
      "0    0.834333\n",
      "1    0.165667\n",
      "Name: default_loan, dtype: float64\n"
     ]
    },
    {
     "data": {
      "text/plain": [
       "0"
      ]
     },
     "execution_count": 19,
     "metadata": {},
     "output_type": "execute_result"
    }
   ],
   "source": [
    "# Check data imbalance\n",
    "print(loans_coded['default_loan'].value_counts())\n",
    "print('-'*50)\n",
    "print(loans_coded['default_loan'].value_counts(normalize = True))\n",
    "\n",
    "# Call a garbage colloctor to free momory\n",
    "import gc\n",
    "gc.collect()"
   ]
  },
  {
   "cell_type": "markdown",
   "metadata": {},
   "source": [
    "Through a mini-experiment, we gained some implications as follows:\n",
    "<ul>\n",
    "    <li>Data imbalance may influence on each model's learning process.</li>\n",
    "        - Shown above, the sample data comprise just around 17 percent among three thousand samples<br> \n",
    "          while tha normal status data comprise 83 percent among those.<br>\n",
    "        - Simply, if the classifier predicts all targets merely as zero, the accuracy could be over 80 percent.<br>\n",
    "        - On top of that, classifier models are prone to be very sensitive to missing data such as NaN.<br>\n",
    "        - Therefore, it will be of significance to properly deal with data imbalance and missing data <br>during preprocessing in the next step.<br>\n",
    "    <li>Also, sensitivity(recall rate) should be more focused on as a performance metric than accuracy or precision.</li>\n",
    "        - If a model fails to predict default loan rather than normal, it could lead to fatal profit loss at LendingClub.<br>  \n",
    "        - Concisely, in this business case, the recall of actual true positive is far more important than others.\n",
    "</ul>"
   ]
  }
 ],
 "metadata": {
  "kernelspec": {
   "display_name": "Python 3",
   "language": "python",
   "name": "python3"
  },
  "language_info": {
   "codemirror_mode": {
    "name": "ipython",
    "version": 3
   },
   "file_extension": ".py",
   "mimetype": "text/x-python",
   "name": "python",
   "nbconvert_exporter": "python",
   "pygments_lexer": "ipython3",
   "version": "3.7.4"
  }
 },
 "nbformat": 4,
 "nbformat_minor": 4
}
